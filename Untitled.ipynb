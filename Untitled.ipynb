{
 "cells": [
  {
   "cell_type": "code",
   "execution_count": 1,
   "id": "d2e70ebd",
   "metadata": {},
   "outputs": [
    {
     "ename": "NameError",
     "evalue": "name 'sqrt' is not defined",
     "output_type": "error",
     "traceback": [
      "\u001b[0;31m---------------------------------------------------------------------------\u001b[0m",
      "\u001b[0;31mNameError\u001b[0m                                 Traceback (most recent call last)",
      "Cell \u001b[0;32mIn[1], line 1\u001b[0m\n\u001b[0;32m----> 1\u001b[0m sqrt(\u001b[38;5;241m2\u001b[39m)\n",
      "\u001b[0;31mNameError\u001b[0m: name 'sqrt' is not defined"
     ]
    }
   ],
   "source": [
    "sqrt(2)"
   ]
  },
  {
   "cell_type": "code",
   "execution_count": null,
   "id": "8d5800f9",
   "metadata": {},
   "outputs": [],
   "source": [
    "2**(1/2)"
   ]
  },
  {
   "cell_type": "code",
   "execution_count": null,
   "id": "7b331d8c",
   "metadata": {},
   "outputs": [],
   "source": [
    "from math import *\n",
    "sqrt(2)"
   ]
  },
  {
   "cell_type": "code",
   "execution_count": null,
   "id": "b57efee6",
   "metadata": {},
   "outputs": [],
   "source": [
    "from math import *\n",
    "pi"
   ]
  },
  {
   "cell_type": "code",
   "execution_count": null,
   "id": "2aadbd29",
   "metadata": {},
   "outputs": [],
   "source": [
    "sin(pi)"
   ]
  },
  {
   "cell_type": "code",
   "execution_count": null,
   "id": "1be4ac0c",
   "metadata": {},
   "outputs": [],
   "source": [
    "cos(2)"
   ]
  },
  {
   "cell_type": "code",
   "execution_count": null,
   "id": "4ca4f06a",
   "metadata": {},
   "outputs": [],
   "source": [
    "33677%7"
   ]
  },
  {
   "cell_type": "code",
   "execution_count": null,
   "id": "89cb7eee",
   "metadata": {},
   "outputs": [],
   "source": [
    "from math import *\n",
    "sqrt(3)"
   ]
  },
  {
   "cell_type": "code",
   "execution_count": null,
   "id": "d9fb070f",
   "metadata": {},
   "outputs": [],
   "source": [
    "cos(2)"
   ]
  },
  {
   "cell_type": "code",
   "execution_count": null,
   "id": "c615a882",
   "metadata": {},
   "outputs": [],
   "source": [
    "cos(pi)"
   ]
  },
  {
   "cell_type": "code",
   "execution_count": null,
   "id": "f24fcb64",
   "metadata": {},
   "outputs": [],
   "source": [
    "csc(pi)"
   ]
  },
  {
   "cell_type": "code",
   "execution_count": null,
   "id": "30000bbf",
   "metadata": {},
   "outputs": [],
   "source": [
    "1/cos(pi)"
   ]
  },
  {
   "cell_type": "code",
   "execution_count": null,
   "id": "9f70ad9d",
   "metadata": {},
   "outputs": [],
   "source": [
    "a=2\n",
    "c=2\n",
    "a+c"
   ]
  },
  {
   "cell_type": "code",
   "execution_count": null,
   "id": "a0528c32",
   "metadata": {},
   "outputs": [],
   "source": [
    "z=1+3j\n",
    "x=3+4j\n",
    "z+x"
   ]
  },
  {
   "cell_type": "code",
   "execution_count": null,
   "id": "fbcf7e00",
   "metadata": {},
   "outputs": [],
   "source": [
    "z*x"
   ]
  },
  {
   "cell_type": "code",
   "execution_count": null,
   "id": "e094cf79",
   "metadata": {},
   "outputs": [],
   "source": [
    "from math import *\n",
    "sqrt(-2)"
   ]
  },
  {
   "cell_type": "code",
   "execution_count": null,
   "id": "88c025cf",
   "metadata": {},
   "outputs": [],
   "source": [
    "from cmath import *\n",
    "sqrt(-3)"
   ]
  },
  {
   "cell_type": "code",
   "execution_count": null,
   "id": "d1c5990c",
   "metadata": {},
   "outputs": [],
   "source": [
    "import math\n",
    "import cmath\n",
    "math.sqrt(2)\n",
    "cmath.sqrt(-1)"
   ]
  },
  {
   "cell_type": "code",
   "execution_count": null,
   "id": "497534dc",
   "metadata": {},
   "outputs": [],
   "source": [
    "math.sqrt(2)"
   ]
  },
  {
   "cell_type": "code",
   "execution_count": null,
   "id": "e1707fdf",
   "metadata": {},
   "outputs": [],
   "source": []
  }
 ],
 "metadata": {
  "kernelspec": {
   "display_name": "Python 3 (ipykernel)",
   "language": "python",
   "name": "python3"
  },
  "language_info": {
   "codemirror_mode": {
    "name": "ipython",
    "version": 3
   },
   "file_extension": ".py",
   "mimetype": "text/x-python",
   "name": "python",
   "nbconvert_exporter": "python",
   "pygments_lexer": "ipython3",
   "version": "3.11.5"
  }
 },
 "nbformat": 4,
 "nbformat_minor": 5
}
