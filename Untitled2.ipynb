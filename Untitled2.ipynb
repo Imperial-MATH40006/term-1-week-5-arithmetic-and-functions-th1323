{
 "cells": [
  {
   "cell_type": "markdown",
   "id": "e7a169a9",
   "metadata": {},
   "source": [
    "# An Introduction to Markdown"
   ]
  },
  {
   "cell_type": "markdown",
   "id": "9f8c9ad7",
   "metadata": {},
   "source": [
    "This is a text cell, introducing the calculation\n",
    "```python\n",
    "2 + 2\n",
    "```"
   ]
  },
  {
   "cell_type": "markdown",
   "id": "cf398e32",
   "metadata": {},
   "source": [
    "This is another text cell, introducing another calculation, $3^7$,\n",
    "which we format as\n",
    "```python\n",
    "3 ** 7\n",
    "```"
   ]
  },
  {
   "cell_type": "code",
   "execution_count": null,
   "id": "2e4b5751",
   "metadata": {},
   "outputs": [],
   "source": []
  },
  {
   "cell_type": "code",
   "execution_count": null,
   "id": "6327d6bc",
   "metadata": {},
   "outputs": [],
   "source": []
  }
 ],
 "metadata": {
  "kernelspec": {
   "display_name": "Python 3 (ipykernel)",
   "language": "python",
   "name": "python3"
  },
  "language_info": {
   "codemirror_mode": {
    "name": "ipython",
    "version": 3
   },
   "file_extension": ".py",
   "mimetype": "text/x-python",
   "name": "python",
   "nbconvert_exporter": "python",
   "pygments_lexer": "ipython3",
   "version": "3.11.5"
  }
 },
 "nbformat": 4,
 "nbformat_minor": 5
}
